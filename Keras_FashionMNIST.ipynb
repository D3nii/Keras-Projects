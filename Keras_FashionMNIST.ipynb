{
  "nbformat": 4,
  "nbformat_minor": 0,
  "metadata": {
    "colab": {
      "name": "Keras - FashionMNIST.ipynb",
      "provenance": [],
      "collapsed_sections": []
    },
    "kernelspec": {
      "name": "python3",
      "display_name": "Python 3"
    },
    "accelerator": "GPU"
  },
  "cells": [
    {
      "cell_type": "code",
      "metadata": {
        "id": "EkNpPMlrMzq0",
        "colab_type": "code",
        "colab": {}
      },
      "source": [
        "import keras\n",
        "import matplotlib.pyplot as plt\n",
        "from keras.models import Sequential\n",
        "from keras.datasets import fashion_mnist\n",
        "from keras.preprocessing.image import ImageDataGenerator\n",
        "from keras.layers import BatchNormalization, MaxPooling2D, Conv2D, Dense, Dropout, Flatten"
      ],
      "execution_count": 7,
      "outputs": []
    },
    {
      "cell_type": "code",
      "metadata": {
        "id": "eefO_XMtNazK",
        "colab_type": "code",
        "colab": {}
      },
      "source": [
        "fashion_class_names = {\n",
        "    0\t: 'T-shirt/top',\n",
        "    1\t: 'Trouser',\n",
        "    2\t: 'Pullover',\n",
        "    3\t: 'Dress',\n",
        "    4\t: 'Coat',\n",
        "    5\t: 'Sandal',\n",
        "    6\t: 'Shirt',\n",
        "    7\t: 'Sneaker',\n",
        "    8\t: 'Bag',\n",
        "    9\t: 'Ankle boot'\n",
        "}"
      ],
      "execution_count": 2,
      "outputs": []
    },
    {
      "cell_type": "code",
      "metadata": {
        "id": "GFzEtN2eOMea",
        "colab_type": "code",
        "colab": {}
      },
      "source": [
        "(x_train, y_train), (x_test, y_test) = fashion_mnist.load_data()"
      ],
      "execution_count": 23,
      "outputs": []
    },
    {
      "cell_type": "code",
      "metadata": {
        "id": "Z3cJrlvSOS4c",
        "colab_type": "code",
        "colab": {
          "base_uri": "https://localhost:8080/",
          "height": 545
        },
        "outputId": "fc276b17-3845-41d2-bb31-20a72908eba4"
      },
      "source": [
        "for i in range(2):\n",
        "    # Grab an image from the data set\n",
        "    sample_image = x_train[i]\n",
        "    # Grab the image's expected class id\n",
        "    image_class_number = y_train[i]\n",
        "    # Look up the class name from the class id\n",
        "    image_class_name = fashion_class_names[image_class_number]\n",
        "\n",
        "    # Draw the image as a plot\n",
        "    plt.imshow(sample_image)\n",
        "    # Label the image\n",
        "    plt.title(image_class_name)\n",
        "    # Show the plot on the screen\n",
        "    plt.show()"
      ],
      "execution_count": 24,
      "outputs": [
        {
          "output_type": "display_data",
          "data": {
            "image/png": "[encoded data removed]",
            "text/plain": [
              "<Figure size 432x288 with 1 Axes>"
            ]
          },
          "metadata": {
            "tags": [],
            "needs_background": "light"
          }
        },
        {
          "output_type": "display_data",
          "data": {
            "image/png": "[encoded data removed]",
            "text/plain": [
              "<Figure size 432x288 with 1 Axes>"
            ]
          },
          "metadata": {
            "tags": [],
            "needs_background": "light"
          }
        }
      ]
    },
    {
      "cell_type": "code",
      "metadata": {
        "id": "IQgcvQWHOpRk",
        "colab_type": "code",
        "colab": {}
      },
      "source": [
        "x_train = x_train.reshape((x_train.shape[0], 28, 28, 1))\n",
        "x_test = x_test.reshape((x_test.shape[0], 28, 28, 1))\n",
        " \n",
        "y_train = keras.utils.to_categorical(y_train, 10)\n",
        "y_test = keras.utils.to_categorical(y_test, 10)\n",
        "\n",
        "x_train = x_train.astype('float32')\n",
        "x_test = x_test.astype('float32')\n",
        "x_train = x_train / 255.0\n",
        "x_test = x_test / 255.0"
      ],
      "execution_count": 25,
      "outputs": []
    },
    {
      "cell_type": "code",
      "metadata": {
        "id": "f7toAQQ4PSBZ",
        "colab_type": "code",
        "colab": {
          "base_uri": "https://localhost:8080/",
          "height": 595
        },
        "outputId": "453ad13c-d294-4289-f494-034e0232c4a4"
      },
      "source": [
        "model = Sequential()\n",
        "\n",
        "model.add(Conv2D(64, kernel_size=2, activation='relu', kernel_initializer='he_uniform', input_shape=(28,28,1)))\n",
        "model.add(BatchNormalization())\n",
        "model.add(MaxPooling2D(2, 2))\n",
        "model.add(Dropout(0.4))\n",
        "\n",
        "model.add(Conv2D(64, kernel_size=2, activation='relu'))\n",
        "model.add(BatchNormalization())\n",
        "model.add(MaxPooling2D(2, 2))\n",
        "model.add(Dropout(0.4))\n",
        "\n",
        "model.add(Flatten())\n",
        "\n",
        "model.add(Dense(128, activation='relu'))\n",
        "model.add(BatchNormalization())\n",
        "model.add(Dropout(0.5))\n",
        "model.add(Dense(10, activation='relu'))\n",
        "\n",
        "model.summary()"
      ],
      "execution_count": 27,
      "outputs": [
        {
          "output_type": "stream",
          "text": [
            "Model: \"sequential_5\"\n",
            "_________________________________________________________________\n",
            "Layer (type)                 Output Shape              Param #   \n",
            "=================================================================\n",
            "conv2d_4 (Conv2D)            (None, 27, 27, 64)        320       \n",
            "_________________________________________________________________\n",
            "batch_normalization_4 (Batch (None, 27, 27, 64)        256       \n",
            "_________________________________________________________________\n",
            "max_pooling2d_3 (MaxPooling2 (None, 13, 13, 64)        0         \n",
            "_________________________________________________________________\n",
            "dropout_4 (Dropout)          (None, 13, 13, 64)        0         \n",
            "_________________________________________________________________\n",
            "conv2d_5 (Conv2D)            (None, 12, 12, 64)        16448     \n",
            "_________________________________________________________________\n",
            "batch_normalization_5 (Batch (None, 12, 12, 64)        256       \n",
            "_________________________________________________________________\n",
            "max_pooling2d_4 (MaxPooling2 (None, 6, 6, 64)          0         \n",
            "_________________________________________________________________\n",
            "dropout_5 (Dropout)          (None, 6, 6, 64)          0         \n",
            "_________________________________________________________________\n",
            "flatten_2 (Flatten)          (None, 2304)              0         \n",
            "_________________________________________________________________\n",
            "dense_3 (Dense)              (None, 128)               295040    \n",
            "_________________________________________________________________\n",
            "batch_normalization_6 (Batch (None, 128)               512       \n",
            "_________________________________________________________________\n",
            "dropout_6 (Dropout)          (None, 128)               0         \n",
            "_________________________________________________________________\n",
            "dense_4 (Dense)              (None, 10)                1290      \n",
            "=================================================================\n",
            "Total params: 314,122\n",
            "Trainable params: 313,610\n",
            "Non-trainable params: 512\n",
            "_________________________________________________________________\n"
          ],
          "name": "stdout"
        }
      ]
    },
    {
      "cell_type": "code",
      "metadata": {
        "id": "S5O1CV8IQFTO",
        "colab_type": "code",
        "colab": {}
      },
      "source": [
        "model.compile(\n",
        "    loss = 'categorical_crossentropy',\n",
        "    optimizer ='adam',\n",
        "    metrics = ['accuracy']\n",
        ")"
      ],
      "execution_count": 28,
      "outputs": []
    },
    {
      "cell_type": "code",
      "metadata": {
        "id": "XzMcqbm3RJXS",
        "colab_type": "code",
        "colab": {
          "base_uri": "https://localhost:8080/",
          "height": 901
        },
        "outputId": "7a53178c-72c1-422f-cce8-827e4ed33c2e"
      },
      "source": [
        "model.fit(\n",
        "    x_train,\n",
        "    y_train,\n",
        "    batch_size=128,\n",
        "    epochs=25,\n",
        "    validation_data=(x_test, y_test)\n",
        ")"
      ],
      "execution_count": 29,
      "outputs": [
        {
          "output_type": "stream",
          "text": [
            "Train on 60000 samples, validate on 10000 samples\n",
            "Epoch 1/25\n",
            "60000/60000 [==============================] - 14s 233us/step - loss: 1.3337 - accuracy: 0.6688 - val_loss: 0.9260 - val_accuracy: 0.7154\n",
            "Epoch 2/25\n",
            "60000/60000 [==============================] - 13s 221us/step - loss: 0.8050 - accuracy: 0.7596 - val_loss: 0.6594 - val_accuracy: 0.7672\n",
            "Epoch 3/25\n",
            "60000/60000 [==============================] - 13s 221us/step - loss: 0.7340 - accuracy: 0.7814 - val_loss: 0.6050 - val_accuracy: 0.8025\n",
            "Epoch 4/25\n",
            "60000/60000 [==============================] - 13s 221us/step - loss: 0.7538 - accuracy: 0.7836 - val_loss: 0.6403 - val_accuracy: 0.8044\n",
            "Epoch 5/25\n",
            "60000/60000 [==============================] - 13s 221us/step - loss: 0.7135 - accuracy: 0.7893 - val_loss: 0.5951 - val_accuracy: 0.8181\n",
            "Epoch 6/25\n",
            "60000/60000 [==============================] - 14s 226us/step - loss: 0.7066 - accuracy: 0.8002 - val_loss: 0.5593 - val_accuracy: 0.8238\n",
            "Epoch 7/25\n",
            "60000/60000 [==============================] - 13s 222us/step - loss: 0.6705 - accuracy: 0.8054 - val_loss: 0.5773 - val_accuracy: 0.8311\n",
            "Epoch 8/25\n",
            "60000/60000 [==============================] - 13s 222us/step - loss: 0.6455 - accuracy: 0.8155 - val_loss: 0.5215 - val_accuracy: 0.8412\n",
            "Epoch 9/25\n",
            "60000/60000 [==============================] - 13s 221us/step - loss: 0.6137 - accuracy: 0.8224 - val_loss: 0.5135 - val_accuracy: 0.8448\n",
            "Epoch 10/25\n",
            "60000/60000 [==============================] - 13s 221us/step - loss: 0.6218 - accuracy: 0.8200 - val_loss: 0.4942 - val_accuracy: 0.8490\n",
            "Epoch 11/25\n",
            "60000/60000 [==============================] - 13s 221us/step - loss: 0.5987 - accuracy: 0.8261 - val_loss: 0.4715 - val_accuracy: 0.8522\n",
            "Epoch 12/25\n",
            "60000/60000 [==============================] - 13s 221us/step - loss: 0.6198 - accuracy: 0.8242 - val_loss: 0.6131 - val_accuracy: 0.8350\n",
            "Epoch 13/25\n",
            "60000/60000 [==============================] - 13s 221us/step - loss: 0.7005 - accuracy: 0.8023 - val_loss: 0.5515 - val_accuracy: 0.8396\n",
            "Epoch 14/25\n",
            "60000/60000 [==============================] - 13s 221us/step - loss: 0.6300 - accuracy: 0.8133 - val_loss: 0.5391 - val_accuracy: 0.8325\n",
            "Epoch 15/25\n",
            "60000/60000 [==============================] - 13s 223us/step - loss: 0.6145 - accuracy: 0.8208 - val_loss: 0.5090 - val_accuracy: 0.8469\n",
            "Epoch 16/25\n",
            "60000/60000 [==============================] - 13s 222us/step - loss: 0.6043 - accuracy: 0.8241 - val_loss: 0.5030 - val_accuracy: 0.8452\n",
            "Epoch 17/25\n",
            "60000/60000 [==============================] - 13s 221us/step - loss: 0.5922 - accuracy: 0.8236 - val_loss: 0.5027 - val_accuracy: 0.8417\n",
            "Epoch 18/25\n",
            "60000/60000 [==============================] - 13s 221us/step - loss: 0.5788 - accuracy: 0.8281 - val_loss: 0.4840 - val_accuracy: 0.8475\n",
            "Epoch 19/25\n",
            "60000/60000 [==============================] - 13s 221us/step - loss: 0.5607 - accuracy: 0.8304 - val_loss: 0.4758 - val_accuracy: 0.8523\n",
            "Epoch 20/25\n",
            "60000/60000 [==============================] - 13s 221us/step - loss: 0.5769 - accuracy: 0.8312 - val_loss: 0.4573 - val_accuracy: 0.8554\n",
            "Epoch 21/25\n",
            "60000/60000 [==============================] - 13s 222us/step - loss: 0.5524 - accuracy: 0.8376 - val_loss: 0.4755 - val_accuracy: 0.8459\n",
            "Epoch 22/25\n",
            "60000/60000 [==============================] - 13s 222us/step - loss: 0.5487 - accuracy: 0.8348 - val_loss: 0.4743 - val_accuracy: 0.8525\n",
            "Epoch 23/25\n",
            "60000/60000 [==============================] - 14s 227us/step - loss: 0.5701 - accuracy: 0.8368 - val_loss: 0.4645 - val_accuracy: 0.8591\n",
            "Epoch 24/25\n",
            "60000/60000 [==============================] - 14s 227us/step - loss: 0.6105 - accuracy: 0.8238 - val_loss: 0.4854 - val_accuracy: 0.8520\n",
            "Epoch 25/25\n",
            "60000/60000 [==============================] - 14s 227us/step - loss: 0.5883 - accuracy: 0.8288 - val_loss: 0.4776 - val_accuracy: 0.8512\n"
          ],
          "name": "stdout"
        },
        {
          "output_type": "execute_result",
          "data": {
            "text/plain": [
              "<keras.callbacks.callbacks.History at 0x7fa2369c4c50>"
            ]
          },
          "metadata": {
            "tags": []
          },
          "execution_count": 29
        }
      ]
    },
    {
      "cell_type": "code",
      "metadata": {
        "id": "EltaYZuCRxq0",
        "colab_type": "code",
        "colab": {
          "base_uri": "https://localhost:8080/",
          "height": 901
        },
        "outputId": "85413f4f-0e8b-4333-ba0c-d396dcdfcf53"
      },
      "source": [
        "model.fit(\n",
        "    x_train,\n",
        "    y_train,\n",
        "    batch_size=64,\n",
        "    epochs=25,\n",
        "    validation_data=(x_test, y_test)\n",
        ")"
      ],
      "execution_count": 30,
      "outputs": [
        {
          "output_type": "stream",
          "text": [
            "Train on 60000 samples, validate on 10000 samples\n",
            "Epoch 1/25\n",
            "60000/60000 [==============================] - 18s 293us/step - loss: 0.6010 - accuracy: 0.8273 - val_loss: 0.4710 - val_accuracy: 0.8557\n",
            "Epoch 2/25\n",
            "60000/60000 [==============================] - 17s 288us/step - loss: 0.5854 - accuracy: 0.8312 - val_loss: 0.4639 - val_accuracy: 0.8579\n",
            "Epoch 3/25\n",
            "60000/60000 [==============================] - 18s 294us/step - loss: 0.5959 - accuracy: 0.8307 - val_loss: 0.4497 - val_accuracy: 0.8628\n",
            "Epoch 4/25\n",
            "60000/60000 [==============================] - 17s 289us/step - loss: 0.5498 - accuracy: 0.8427 - val_loss: 0.4391 - val_accuracy: 0.8658\n",
            "Epoch 5/25\n",
            "60000/60000 [==============================] - 17s 287us/step - loss: 0.5275 - accuracy: 0.8426 - val_loss: 0.4295 - val_accuracy: 0.8665\n",
            "Epoch 6/25\n",
            "60000/60000 [==============================] - 17s 289us/step - loss: 0.5332 - accuracy: 0.8480 - val_loss: 0.4286 - val_accuracy: 0.8716\n",
            "Epoch 7/25\n",
            "60000/60000 [==============================] - 17s 287us/step - loss: 0.5451 - accuracy: 0.8482 - val_loss: 0.4418 - val_accuracy: 0.8657\n",
            "Epoch 8/25\n",
            "60000/60000 [==============================] - 17s 287us/step - loss: 0.5454 - accuracy: 0.8433 - val_loss: 0.4463 - val_accuracy: 0.8625\n",
            "Epoch 9/25\n",
            "60000/60000 [==============================] - 17s 287us/step - loss: 0.5361 - accuracy: 0.8498 - val_loss: 0.4239 - val_accuracy: 0.8757\n",
            "Epoch 10/25\n",
            "60000/60000 [==============================] - 17s 289us/step - loss: 0.5637 - accuracy: 0.8360 - val_loss: 0.4501 - val_accuracy: 0.8666\n",
            "Epoch 11/25\n",
            "60000/60000 [==============================] - 17s 286us/step - loss: 0.5378 - accuracy: 0.8416 - val_loss: 0.4452 - val_accuracy: 0.8704\n",
            "Epoch 12/25\n",
            "60000/60000 [==============================] - 17s 287us/step - loss: 0.5391 - accuracy: 0.8459 - val_loss: 0.4295 - val_accuracy: 0.8688\n",
            "Epoch 13/25\n",
            "60000/60000 [==============================] - 17s 290us/step - loss: 0.5202 - accuracy: 0.8503 - val_loss: 0.4508 - val_accuracy: 0.8668\n",
            "Epoch 14/25\n",
            "60000/60000 [==============================] - 17s 287us/step - loss: 0.5264 - accuracy: 0.8476 - val_loss: 0.4509 - val_accuracy: 0.8616\n",
            "Epoch 15/25\n",
            "60000/60000 [==============================] - 17s 288us/step - loss: 0.5039 - accuracy: 0.8536 - val_loss: 0.4058 - val_accuracy: 0.8760\n",
            "Epoch 16/25\n",
            "60000/60000 [==============================] - 17s 287us/step - loss: 0.5341 - accuracy: 0.8486 - val_loss: 0.4538 - val_accuracy: 0.8699\n",
            "Epoch 17/25\n",
            "60000/60000 [==============================] - 17s 287us/step - loss: 0.5454 - accuracy: 0.8493 - val_loss: 0.4617 - val_accuracy: 0.8640\n",
            "Epoch 18/25\n",
            "60000/60000 [==============================] - 17s 287us/step - loss: 0.5493 - accuracy: 0.8456 - val_loss: 0.4288 - val_accuracy: 0.8719\n",
            "Epoch 19/25\n",
            "60000/60000 [==============================] - 17s 287us/step - loss: 0.5285 - accuracy: 0.8500 - val_loss: 0.4270 - val_accuracy: 0.8742\n",
            "Epoch 20/25\n",
            "60000/60000 [==============================] - 17s 288us/step - loss: 0.5272 - accuracy: 0.8534 - val_loss: 0.4202 - val_accuracy: 0.8719\n",
            "Epoch 21/25\n",
            "60000/60000 [==============================] - 18s 294us/step - loss: 0.5196 - accuracy: 0.8592 - val_loss: 0.4089 - val_accuracy: 0.8770\n",
            "Epoch 22/25\n",
            "60000/60000 [==============================] - 17s 287us/step - loss: 0.5148 - accuracy: 0.8583 - val_loss: 0.4064 - val_accuracy: 0.8788\n",
            "Epoch 23/25\n",
            "60000/60000 [==============================] - 17s 286us/step - loss: 0.5286 - accuracy: 0.8516 - val_loss: 0.4224 - val_accuracy: 0.8712\n",
            "Epoch 24/25\n",
            "60000/60000 [==============================] - 17s 286us/step - loss: 0.5070 - accuracy: 0.8571 - val_loss: 0.4006 - val_accuracy: 0.8746\n",
            "Epoch 25/25\n",
            "60000/60000 [==============================] - 17s 286us/step - loss: 0.5025 - accuracy: 0.8575 - val_loss: 0.4139 - val_accuracy: 0.8765\n"
          ],
          "name": "stdout"
        },
        {
          "output_type": "execute_result",
          "data": {
            "text/plain": [
              "<keras.callbacks.callbacks.History at 0x7fa23671e7f0>"
            ]
          },
          "metadata": {
            "tags": []
          },
          "execution_count": 30
        }
      ]
    },
    {
      "cell_type": "code",
      "metadata": {
        "id": "34R4BIt2UXfc",
        "colab_type": "code",
        "colab": {
          "base_uri": "https://localhost:8080/",
          "height": 901
        },
        "outputId": "25bfa27c-5790-4c3d-caca-f124dabcf18e"
      },
      "source": [
        "model.fit(\n",
        "    x_train,\n",
        "    y_train,\n",
        "    batch_size=64,\n",
        "    epochs=25,\n",
        "    validation_data=(x_test, y_test)\n",
        ")"
      ],
      "execution_count": 31,
      "outputs": [
        {
          "output_type": "stream",
          "text": [
            "Train on 60000 samples, validate on 10000 samples\n",
            "Epoch 1/25\n",
            "60000/60000 [==============================] - 17s 290us/step - loss: 0.5101 - accuracy: 0.8575 - val_loss: 0.4462 - val_accuracy: 0.8555\n",
            "Epoch 2/25\n",
            "60000/60000 [==============================] - 17s 285us/step - loss: 0.5149 - accuracy: 0.8535 - val_loss: 0.4120 - val_accuracy: 0.8756\n",
            "Epoch 3/25\n",
            "60000/60000 [==============================] - 17s 286us/step - loss: 0.5019 - accuracy: 0.8567 - val_loss: 0.4045 - val_accuracy: 0.8757\n",
            "Epoch 4/25\n",
            "60000/60000 [==============================] - 17s 286us/step - loss: 0.4983 - accuracy: 0.8591 - val_loss: 0.4063 - val_accuracy: 0.8740\n",
            "Epoch 5/25\n",
            "60000/60000 [==============================] - 17s 286us/step - loss: 0.5012 - accuracy: 0.8565 - val_loss: 0.3981 - val_accuracy: 0.8779\n",
            "Epoch 6/25\n",
            "60000/60000 [==============================] - 17s 286us/step - loss: 0.5019 - accuracy: 0.8589 - val_loss: 0.3989 - val_accuracy: 0.8765\n",
            "Epoch 7/25\n",
            "60000/60000 [==============================] - 17s 287us/step - loss: 0.5029 - accuracy: 0.8596 - val_loss: 0.3864 - val_accuracy: 0.8802\n",
            "Epoch 8/25\n",
            "60000/60000 [==============================] - 17s 286us/step - loss: 0.4833 - accuracy: 0.8607 - val_loss: 0.3969 - val_accuracy: 0.8758\n",
            "Epoch 9/25\n",
            "60000/60000 [==============================] - 17s 287us/step - loss: 0.4873 - accuracy: 0.8618 - val_loss: 0.3933 - val_accuracy: 0.8783\n",
            "Epoch 10/25\n",
            "60000/60000 [==============================] - 17s 287us/step - loss: 0.4796 - accuracy: 0.8660 - val_loss: 0.3841 - val_accuracy: 0.8808\n",
            "Epoch 11/25\n",
            "60000/60000 [==============================] - 17s 286us/step - loss: 0.4709 - accuracy: 0.8642 - val_loss: 0.3973 - val_accuracy: 0.8814\n",
            "Epoch 12/25\n",
            "60000/60000 [==============================] - 17s 288us/step - loss: 0.4719 - accuracy: 0.8703 - val_loss: 0.3819 - val_accuracy: 0.8855\n",
            "Epoch 13/25\n",
            "60000/60000 [==============================] - 17s 291us/step - loss: 0.4935 - accuracy: 0.8642 - val_loss: 0.4010 - val_accuracy: 0.8760\n",
            "Epoch 14/25\n",
            "60000/60000 [==============================] - 17s 287us/step - loss: 0.4937 - accuracy: 0.8634 - val_loss: 0.4189 - val_accuracy: 0.8755\n",
            "Epoch 15/25\n",
            "60000/60000 [==============================] - 17s 287us/step - loss: 0.5110 - accuracy: 0.8616 - val_loss: 0.3963 - val_accuracy: 0.8805\n",
            "Epoch 16/25\n",
            "60000/60000 [==============================] - 17s 286us/step - loss: 0.4924 - accuracy: 0.8631 - val_loss: 0.3984 - val_accuracy: 0.8792\n",
            "Epoch 17/25\n",
            "60000/60000 [==============================] - 17s 286us/step - loss: 0.4878 - accuracy: 0.8681 - val_loss: 0.3927 - val_accuracy: 0.8815\n",
            "Epoch 18/25\n",
            "60000/60000 [==============================] - 17s 287us/step - loss: 0.5063 - accuracy: 0.8580 - val_loss: 0.3990 - val_accuracy: 0.8765\n",
            "Epoch 19/25\n",
            "60000/60000 [==============================] - 17s 288us/step - loss: 0.4780 - accuracy: 0.8641 - val_loss: 0.4095 - val_accuracy: 0.8766\n",
            "Epoch 20/25\n",
            "60000/60000 [==============================] - 17s 286us/step - loss: 0.4949 - accuracy: 0.8605 - val_loss: 0.4075 - val_accuracy: 0.8743\n",
            "Epoch 21/25\n",
            "60000/60000 [==============================] - 17s 287us/step - loss: 0.4923 - accuracy: 0.8644 - val_loss: 0.3893 - val_accuracy: 0.8824\n",
            "Epoch 22/25\n",
            "60000/60000 [==============================] - 17s 286us/step - loss: 0.5102 - accuracy: 0.8624 - val_loss: 0.4121 - val_accuracy: 0.8768\n",
            "Epoch 23/25\n",
            "60000/60000 [==============================] - 17s 286us/step - loss: 0.4902 - accuracy: 0.8611 - val_loss: 0.3995 - val_accuracy: 0.8810\n",
            "Epoch 24/25\n",
            "60000/60000 [==============================] - 17s 286us/step - loss: 0.4838 - accuracy: 0.8627 - val_loss: 0.3903 - val_accuracy: 0.8805\n",
            "Epoch 25/25\n",
            "60000/60000 [==============================] - 17s 285us/step - loss: 0.4904 - accuracy: 0.8625 - val_loss: 0.3894 - val_accuracy: 0.8797\n"
          ],
          "name": "stdout"
        },
        {
          "output_type": "execute_result",
          "data": {
            "text/plain": [
              "<keras.callbacks.callbacks.History at 0x7fa23671eb38>"
            ]
          },
          "metadata": {
            "tags": []
          },
          "execution_count": 31
        }
      ]
    },
    {
      "cell_type": "code",
      "metadata": {
        "id": "A-30FTyuWIDX",
        "colab_type": "code",
        "colab": {
          "base_uri": "https://localhost:8080/",
          "height": 51
        },
        "outputId": "73b3fdcd-df65-4f3d-8a91-787aef79b662"
      },
      "source": [
        "score = model.evaluate(x_test, y_test, verbose=0)\n",
        "\n",
        "print('\\n', 'Test accuracy:', score[1])"
      ],
      "execution_count": 35,
      "outputs": [
        {
          "output_type": "stream",
          "text": [
            "\n",
            " Test accuracy: 0.8797000050544739\n"
          ],
          "name": "stdout"
        }
      ]
    },
    {
      "cell_type": "code",
      "metadata": {
        "id": "DPy_1PVdWMzP",
        "colab_type": "code",
        "colab": {}
      },
      "source": [
        ""
      ],
      "execution_count": null,
      "outputs": []
    }
  ]
}