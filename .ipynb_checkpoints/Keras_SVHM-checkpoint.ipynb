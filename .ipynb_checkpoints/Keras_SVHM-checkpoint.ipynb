{
 "cells": [
  {
   "cell_type": "code",
   "execution_count": 34,
   "metadata": {
    "colab": {},
    "colab_type": "code",
    "id": "VozodDKO-uzv"
   },
   "outputs": [],
   "source": [
    "import os\n",
    "import sys\n",
    "import keras\n",
    "import tarfile\n",
    "import numpy as np\n",
    "import tensorflow as tf\n",
    "import urllib.request as urllib\n",
    "import matplotlib.pyplot as plt\n",
    "from keras.regularizers import l2\n",
    "from keras.models import Sequential\n",
    "from keras.optimizers import Adam, SGD\n",
    "from keras.engine.training import Model\n",
    "from keras import backend as K, regularizers\n",
    "from keras.callbacks import LearningRateScheduler\n",
    "from keras.preprocessing.image import ImageDataGenerator\n",
    "from keras.layers import Add, Conv2D, MaxPooling2D, Dropout, Flatten, Dense, BatchNormalization, Activation"
   ]
  },
  {
   "cell_type": "code",
   "execution_count": 10,
   "metadata": {
    "colab": {
     "base_uri": "https://localhost:8080/",
     "height": 137
    },
    "colab_type": "code",
    "id": "_cpiAJ438-s4",
    "outputId": "ece332fd-b870-4185-835c-d2208fff700e"
   },
   "outputs": [
    {
     "name": "stdout",
     "output_type": "stream",
     "text": [
      "Go to this URL in a browser: https://accounts.google.com/o/oauth2/auth?client_id=947318989803-6bn6qk8qdgf4n4g3pfee6491hc0brc4i.apps.googleusercontent.com&redirect_uri=urn%3aietf%3awg%3aoauth%3a2.0%3aoob&response_type=code&scope=email%20https%3a%2f%2fwww.googleapis.com%2fauth%2fdocs.test%20https%3a%2f%2fwww.googleapis.com%2fauth%2fdrive%20https%3a%2f%2fwww.googleapis.com%2fauth%2fdrive.photos.readonly%20https%3a%2f%2fwww.googleapis.com%2fauth%2fpeopleapi.readonly\n",
      "\n",
      "Enter your authorization code:\n",
      "··········\n",
      "Mounted at /content/gdrive\n"
     ]
    }
   ],
   "source": [
    "from google.colab import drive\n",
    "drive.mount('/content/gdrive')"
   ]
  },
  {
   "cell_type": "code",
   "execution_count": 17,
   "metadata": {
    "colab": {},
    "colab_type": "code",
    "id": "hRE5v7Ov7Rh-"
   },
   "outputs": [],
   "source": [
    "# Importing code from https://github.com/codemukul95/SVHN-classification-using-Tensorflow/blob/master/load_input.py <3\n",
    "\n",
    "import keras\n",
    "import numpy as np\n",
    "import scipy as sp\n",
    "import scipy.io as sio\n",
    "from scipy.misc import *\n",
    "from keras.utils import to_categorical\n",
    "\n",
    "#Dataset location\n",
    "train_location = '/content/gdrive/My Drive/Temp/train_32x32.mat'\n",
    "test_location = '/content/gdrive/My Drive/Temp/test_32x32.mat'\n",
    "\n",
    "def load_train_data():\n",
    "    train_dict = sio.loadmat(train_location)\n",
    "    X = np.asarray(train_dict['X'])\n",
    "\n",
    "    X_train = []\n",
    "    for i in range(X.shape[3]):\n",
    "        X_train.append(X[:,:,:,i])\n",
    "    X_train = np.asarray(X_train)\n",
    "\n",
    "    Y_train = train_dict['y']\n",
    "    for i in range(len(Y_train)):\n",
    "        if Y_train[i]%10 == 0:\n",
    "            Y_train[i] = 0\n",
    "    Y_train = to_categorical(Y_train,10)\n",
    "    return (X_train,Y_train)\n",
    "\n",
    "def load_test_data():\n",
    "    test_dict = sio.loadmat(test_location)\n",
    "    X = np.asarray(test_dict['X'])\n",
    "\n",
    "    X_test = []\n",
    "    for i in range(X.shape[3]):\n",
    "        X_test.append(X[:,:,:,i])\n",
    "    X_test = np.asarray(X_test)\n",
    "\n",
    "    Y_test = test_dict['y']\n",
    "    for i in range(len(Y_test)):\n",
    "        if Y_test[i]%10 == 0:\n",
    "            Y_test[i] = 0\n",
    "    Y_test = to_categorical(Y_test,10)\n",
    "    return (X_test,Y_test)"
   ]
  },
  {
   "cell_type": "code",
   "execution_count": 18,
   "metadata": {
    "colab": {},
    "colab_type": "code",
    "id": "rARycwNz9UQS"
   },
   "outputs": [],
   "source": [
    "(x_train, y_train) = load_train_data()"
   ]
  },
  {
   "cell_type": "code",
   "execution_count": 19,
   "metadata": {
    "colab": {
     "base_uri": "https://localhost:8080/",
     "height": 34
    },
    "colab_type": "code",
    "id": "hJUq7SHo-JQ1",
    "outputId": "4e21a348-0176-4657-f87c-4895dbe55491"
   },
   "outputs": [
    {
     "data": {
      "text/plain": [
       "(73257, 32, 32, 3)"
      ]
     },
     "execution_count": 19,
     "metadata": {
      "tags": []
     },
     "output_type": "execute_result"
    }
   ],
   "source": [
    "x_train.shape"
   ]
  },
  {
   "cell_type": "code",
   "execution_count": 20,
   "metadata": {
    "colab": {},
    "colab_type": "code",
    "id": "JflJb7r5-SEm"
   },
   "outputs": [],
   "source": [
    "(x_test, y_test) = load_test_data()"
   ]
  },
  {
   "cell_type": "code",
   "execution_count": 21,
   "metadata": {
    "colab": {
     "base_uri": "https://localhost:8080/",
     "height": 34
    },
    "colab_type": "code",
    "id": "m92anCig-XTe",
    "outputId": "814e7c99-9725-48e5-fe37-6b666acdad68"
   },
   "outputs": [
    {
     "data": {
      "text/plain": [
       "(26032, 32, 32, 3)"
      ]
     },
     "execution_count": 21,
     "metadata": {
      "tags": []
     },
     "output_type": "execute_result"
    }
   ],
   "source": [
    "x_test.shape"
   ]
  },
  {
   "cell_type": "code",
   "execution_count": 23,
   "metadata": {
    "colab": {},
    "colab_type": "code",
    "id": "f2YWSNps-Ysd"
   },
   "outputs": [],
   "source": [
    "x_train = x_train.astype('float32')\n",
    "x_test = x_test.astype('float32')\n",
    "x_train = x_train / 255.0\n",
    "x_test = x_test / 255.0"
   ]
  },
  {
   "cell_type": "code",
   "execution_count": 24,
   "metadata": {
    "colab": {},
    "colab_type": "code",
    "id": "ugq0zqhD-5P5"
   },
   "outputs": [],
   "source": [
    "# applying transformation to image\n",
    "train_gen = ImageDataGenerator(\n",
    "        rotation_range=15,  \n",
    "        zoom_range = 0.10,  \n",
    "        width_shift_range=0.3, \n",
    "        height_shift_range=0.3,\n",
    "        brightness_range=[0.2,1.0]\n",
    ")\n",
    "\n",
    "# test_gen = ImageDataGenerator()\n",
    "train_gen.fit(x_train)\n",
    "\n",
    "test_set= train_gen.flow(x_test, y_test, batch_size=256)"
   ]
  },
  {
   "cell_type": "code",
   "execution_count": 49,
   "metadata": {
    "colab": {
     "base_uri": "https://localhost:8080/",
     "height": 1000
    },
    "colab_type": "code",
    "id": "R5yFDd-y_mUk",
    "outputId": "0026c9c5-a375-452e-e167-520d1f127779"
   },
   "outputs": [
    {
     "name": "stdout",
     "output_type": "stream",
     "text": [
      "Model: \"sequential_7\"\n",
      "_________________________________________________________________\n",
      "Layer (type)                 Output Shape              Param #   \n",
      "=================================================================\n",
      "conv2d_45 (Conv2D)           (None, 32, 32, 32)        2432      \n",
      "_________________________________________________________________\n",
      "activation_53 (Activation)   (None, 32, 32, 32)        0         \n",
      "_________________________________________________________________\n",
      "batch_normalization_53 (Batc (None, 32, 32, 32)        128       \n",
      "_________________________________________________________________\n",
      "max_pooling2d_29 (MaxPooling (None, 16, 16, 32)        0         \n",
      "_________________________________________________________________\n",
      "dropout_51 (Dropout)         (None, 16, 16, 32)        0         \n",
      "_________________________________________________________________\n",
      "conv2d_46 (Conv2D)           (None, 16, 16, 64)        51264     \n",
      "_________________________________________________________________\n",
      "activation_54 (Activation)   (None, 16, 16, 64)        0         \n",
      "_________________________________________________________________\n",
      "batch_normalization_54 (Batc (None, 16, 16, 64)        256       \n",
      "_________________________________________________________________\n",
      "dropout_52 (Dropout)         (None, 16, 16, 64)        0         \n",
      "_________________________________________________________________\n",
      "conv2d_47 (Conv2D)           (None, 16, 16, 128)       204928    \n",
      "_________________________________________________________________\n",
      "activation_55 (Activation)   (None, 16, 16, 128)       0         \n",
      "_________________________________________________________________\n",
      "batch_normalization_55 (Batc (None, 16, 16, 128)       512       \n",
      "_________________________________________________________________\n",
      "max_pooling2d_30 (MaxPooling (None, 8, 8, 128)         0         \n",
      "_________________________________________________________________\n",
      "dropout_53 (Dropout)         (None, 8, 8, 128)         0         \n",
      "_________________________________________________________________\n",
      "conv2d_48 (Conv2D)           (None, 8, 8, 180)         576180    \n",
      "_________________________________________________________________\n",
      "activation_56 (Activation)   (None, 8, 8, 180)         0         \n",
      "_________________________________________________________________\n",
      "batch_normalization_56 (Batc (None, 8, 8, 180)         720       \n",
      "_________________________________________________________________\n",
      "dropout_54 (Dropout)         (None, 8, 8, 180)         0         \n",
      "_________________________________________________________________\n",
      "conv2d_49 (Conv2D)           (None, 8, 8, 256)         1152256   \n",
      "_________________________________________________________________\n",
      "activation_57 (Activation)   (None, 8, 8, 256)         0         \n",
      "_________________________________________________________________\n",
      "batch_normalization_57 (Batc (None, 8, 8, 256)         1024      \n",
      "_________________________________________________________________\n",
      "max_pooling2d_31 (MaxPooling (None, 4, 4, 256)         0         \n",
      "_________________________________________________________________\n",
      "dropout_55 (Dropout)         (None, 4, 4, 256)         0         \n",
      "_________________________________________________________________\n",
      "conv2d_50 (Conv2D)           (None, 4, 4, 280)         1792280   \n",
      "_________________________________________________________________\n",
      "activation_58 (Activation)   (None, 4, 4, 280)         0         \n",
      "_________________________________________________________________\n",
      "batch_normalization_58 (Batc (None, 4, 4, 280)         1120      \n",
      "_________________________________________________________________\n",
      "dropout_56 (Dropout)         (None, 4, 4, 280)         0         \n",
      "_________________________________________________________________\n",
      "conv2d_51 (Conv2D)           (None, 4, 4, 300)         2100300   \n",
      "_________________________________________________________________\n",
      "activation_59 (Activation)   (None, 4, 4, 300)         0         \n",
      "_________________________________________________________________\n",
      "batch_normalization_59 (Batc (None, 4, 4, 300)         1200      \n",
      "_________________________________________________________________\n",
      "max_pooling2d_32 (MaxPooling (None, 2, 2, 300)         0         \n",
      "_________________________________________________________________\n",
      "dropout_57 (Dropout)         (None, 2, 2, 300)         0         \n",
      "_________________________________________________________________\n",
      "conv2d_52 (Conv2D)           (None, 2, 2, 320)         2400320   \n",
      "_________________________________________________________________\n",
      "activation_60 (Activation)   (None, 2, 2, 320)         0         \n",
      "_________________________________________________________________\n",
      "batch_normalization_60 (Batc (None, 2, 2, 320)         1280      \n",
      "_________________________________________________________________\n",
      "dropout_58 (Dropout)         (None, 2, 2, 320)         0         \n",
      "_________________________________________________________________\n",
      "flatten_5 (Flatten)          (None, 1280)              0         \n",
      "_________________________________________________________________\n",
      "dense_13 (Dense)             (None, 2800)              3586800   \n",
      "_________________________________________________________________\n",
      "activation_61 (Activation)   (None, 2800)              0         \n",
      "_________________________________________________________________\n",
      "batch_normalization_61 (Batc (None, 2800)              11200     \n",
      "_________________________________________________________________\n",
      "dropout_59 (Dropout)         (None, 2800)              0         \n",
      "_________________________________________________________________\n",
      "dense_14 (Dense)             (None, 1200)              3361200   \n",
      "_________________________________________________________________\n",
      "activation_62 (Activation)   (None, 1200)              0         \n",
      "_________________________________________________________________\n",
      "batch_normalization_62 (Batc (None, 1200)              4800      \n",
      "_________________________________________________________________\n",
      "dropout_60 (Dropout)         (None, 1200)              0         \n",
      "_________________________________________________________________\n",
      "dense_15 (Dense)             (None, 10)                12010     \n",
      "=================================================================\n",
      "Total params: 15,262,210\n",
      "Trainable params: 15,251,090\n",
      "Non-trainable params: 11,120\n",
      "_________________________________________________________________\n"
     ]
    }
   ],
   "source": [
    "model = Sequential()\n",
    "\n",
    "# Block 1\n",
    "model.add(Conv2D(32, kernel_size=5, kernel_initializer='he_uniform', kernel_regularizer=l2(0.0005), padding='same', input_shape=(32, 32, 3)))\n",
    "model.add(Activation('elu'))\n",
    "model.add(BatchNormalization())\n",
    "model.add(MaxPooling2D(2, 2))\n",
    "model.add(Dropout(0.3))\n",
    "\n",
    "# Block 2\n",
    "model.add(Conv2D(64, kernel_size=5, kernel_initializer='he_uniform', kernel_regularizer=l2(0.0005), padding='same'))\n",
    "model.add(Activation('elu'))\n",
    "model.add(BatchNormalization())\n",
    "# model.add(MaxPooling2D(2, 2))\n",
    "model.add(Dropout(0.3))\n",
    "\n",
    "# Block 3\n",
    "model.add(Conv2D(128, kernel_size=5, kernel_initializer='he_uniform', kernel_regularizer=l2(0.0005), padding='same'))\n",
    "model.add(Activation('elu'))\n",
    "model.add(BatchNormalization())\n",
    "model.add(MaxPooling2D(2, 2))\n",
    "model.add(Dropout(0.3))\n",
    "\n",
    "# Block 4\n",
    "model.add(Conv2D(180, kernel_size=5, kernel_initializer='he_uniform', kernel_regularizer=l2(0.0005), padding='same'))\n",
    "model.add(Activation('elu'))\n",
    "model.add(BatchNormalization())\n",
    "# model.add(MaxPooling2D(2, 2))\n",
    "model.add(Dropout(0.3))\n",
    "\n",
    "# Block 5\n",
    "model.add(Conv2D(256, kernel_size=5, kernel_initializer='he_uniform', kernel_regularizer=l2(0.0005), padding='same'))\n",
    "model.add(Activation('elu'))\n",
    "model.add(BatchNormalization())\n",
    "model.add(MaxPooling2D(2, 2))\n",
    "model.add(Dropout(0.3))\n",
    "\n",
    "# Block 6\n",
    "model.add(Conv2D(280, kernel_size=5, kernel_initializer='he_uniform', kernel_regularizer=l2(0.0005), padding='same'))\n",
    "model.add(Activation('elu'))\n",
    "model.add(BatchNormalization())\n",
    "# model.add(MaxPooling2D(2, 2))\n",
    "model.add(Dropout(0.3))\n",
    "\n",
    "# Block 7\n",
    "model.add(Conv2D(300, kernel_size=5, kernel_initializer='he_uniform', kernel_regularizer=l2(0.0005), padding='same'))\n",
    "model.add(Activation('elu'))\n",
    "model.add(BatchNormalization())\n",
    "model.add(MaxPooling2D(2, 2))\n",
    "model.add(Dropout(0.3))\n",
    "\n",
    "# Block 8\n",
    "model.add(Conv2D(320, kernel_size=5, kernel_initializer='he_uniform', kernel_regularizer=l2(0.0005), padding='same'))\n",
    "model.add(Activation('elu'))\n",
    "model.add(BatchNormalization())\n",
    "# model.add(MaxPooling2D(2, 2))\n",
    "model.add(Dropout(0.3))\n",
    "\n",
    "model.add(Flatten())\n",
    "\n",
    "# Dense 1\n",
    "model.add(Dense(2800,  kernel_regularizer=l2(0.0005)))\n",
    "model.add(Activation('elu'))\n",
    "model.add(BatchNormalization())\n",
    "model.add(Dropout(0.3))\n",
    "\n",
    "# Dense 2\n",
    "model.add(Dense(1200,  kernel_regularizer=l2(0.0005)))\n",
    "model.add(Activation('elu'))\n",
    "model.add(BatchNormalization())\n",
    "model.add(Dropout(0.3))\n",
    "\n",
    "# Dense 3\n",
    "model.add(Dense(10,  kernel_regularizer=l2(0.0005), activation='softmax'))\n",
    "\n",
    "# Visualize Model\n",
    "model.summary()"
   ]
  },
  {
   "cell_type": "code",
   "execution_count": 50,
   "metadata": {
    "colab": {},
    "colab_type": "code",
    "id": "YzPWnW_sCAH2"
   },
   "outputs": [],
   "source": [
    "initial_lr = 1e-3\n",
    "\n",
    "def lr_scheduler(epoch):\n",
    "    if epoch < 20:\n",
    "        return initial_lr\n",
    "    elif epoch < 40:\n",
    "        return initial_lr / 2\n",
    "    elif epoch < 50:\n",
    "        return initial_lr / 4\n",
    "    elif epoch < 60:\n",
    "        return initial_lr / 8\n",
    "    elif epoch < 70:\n",
    "        return initial_lr / 16\n",
    "    elif epoch < 80:\n",
    "        return initial_lr / 32\n",
    "    elif epoch < 90:\n",
    "        return initial_lr / 64\n",
    "    else:\n",
    "        return initial_lr / 128\n",
    "\n",
    "model.compile(\n",
    "    loss = 'categorical_crossentropy',\n",
    "    optimizer=keras.optimizers.Adam(initial_lr),\n",
    "    metrics = ['accuracy']\n",
    ")"
   ]
  },
  {
   "cell_type": "code",
   "execution_count": 51,
   "metadata": {
    "colab": {
     "base_uri": "https://localhost:8080/",
     "height": 1000
    },
    "colab_type": "code",
    "id": "wOULGrQGM5ol",
    "outputId": "90b9121e-b4ca-43cd-80c1-1df4e0fc6886"
   },
   "outputs": [
    {
     "name": "stdout",
     "output_type": "stream",
     "text": [
      "Epoch 1/100\n",
      "573/573 [==============================] - 85s 149ms/step - loss: 4.9519 - accuracy: 0.1740 - val_loss: 4.3580 - val_accuracy: 0.2421\n",
      "Epoch 2/100\n",
      "573/573 [==============================] - 83s 145ms/step - loss: 2.5318 - accuracy: 0.5007 - val_loss: 1.5174 - val_accuracy: 0.7535\n",
      "Epoch 3/100\n",
      "573/573 [==============================] - 83s 145ms/step - loss: 1.5187 - accuracy: 0.7570 - val_loss: 1.2921 - val_accuracy: 0.8116\n",
      "Epoch 4/100\n",
      "573/573 [==============================] - 83s 145ms/step - loss: 1.3527 - accuracy: 0.7993 - val_loss: 1.2833 - val_accuracy: 0.8181\n",
      "Epoch 5/100\n",
      "573/573 [==============================] - 83s 145ms/step - loss: 1.3152 - accuracy: 0.8144 - val_loss: 1.0268 - val_accuracy: 0.8546\n",
      "Epoch 6/100\n",
      "573/573 [==============================] - 83s 145ms/step - loss: 1.3343 - accuracy: 0.8185 - val_loss: 1.1498 - val_accuracy: 0.8659\n",
      "Epoch 7/100\n",
      "573/573 [==============================] - 83s 144ms/step - loss: 1.3292 - accuracy: 0.8245 - val_loss: 1.2378 - val_accuracy: 0.8722\n",
      "Epoch 8/100\n",
      "573/573 [==============================] - 83s 145ms/step - loss: 1.3253 - accuracy: 0.8293 - val_loss: 1.2478 - val_accuracy: 0.8698\n",
      "Epoch 9/100\n",
      "573/573 [==============================] - 83s 145ms/step - loss: 1.3280 - accuracy: 0.8292 - val_loss: 1.2011 - val_accuracy: 0.8579\n",
      "Epoch 10/100\n",
      "573/573 [==============================] - 83s 145ms/step - loss: 1.3155 - accuracy: 0.8332 - val_loss: 1.2398 - val_accuracy: 0.8769\n",
      "Epoch 11/100\n",
      "573/573 [==============================] - 83s 145ms/step - loss: 1.3088 - accuracy: 0.8371 - val_loss: 1.0425 - val_accuracy: 0.8886\n",
      "Epoch 12/100\n",
      "573/573 [==============================] - 83s 145ms/step - loss: 1.3106 - accuracy: 0.8348 - val_loss: 1.2726 - val_accuracy: 0.8827\n",
      "Epoch 13/100\n",
      "573/573 [==============================] - 83s 145ms/step - loss: 1.2911 - accuracy: 0.8369 - val_loss: 1.1178 - val_accuracy: 0.8670\n",
      "Epoch 14/100\n",
      "573/573 [==============================] - 83s 144ms/step - loss: 1.2771 - accuracy: 0.8381 - val_loss: 1.2121 - val_accuracy: 0.8826\n",
      "Epoch 15/100\n",
      "573/573 [==============================] - 83s 145ms/step - loss: 1.2691 - accuracy: 0.8413 - val_loss: 1.1958 - val_accuracy: 0.8581\n",
      "Epoch 16/100\n",
      "573/573 [==============================] - 83s 145ms/step - loss: 1.2522 - accuracy: 0.8423 - val_loss: 1.1822 - val_accuracy: 0.8794\n",
      "Epoch 17/100\n",
      "573/573 [==============================] - 83s 144ms/step - loss: 1.2302 - accuracy: 0.8440 - val_loss: 1.1528 - val_accuracy: 0.8828\n",
      "Epoch 18/100\n",
      "573/573 [==============================] - 83s 145ms/step - loss: 1.2140 - accuracy: 0.8429 - val_loss: 1.1082 - val_accuracy: 0.8948\n",
      "Epoch 19/100\n",
      "573/573 [==============================] - 83s 145ms/step - loss: 1.2052 - accuracy: 0.8421 - val_loss: 1.1125 - val_accuracy: 0.8833\n",
      "Epoch 20/100\n",
      "573/573 [==============================] - 83s 145ms/step - loss: 1.1882 - accuracy: 0.8436 - val_loss: 1.1067 - val_accuracy: 0.8937\n",
      "Epoch 21/100\n",
      "573/573 [==============================] - 83s 145ms/step - loss: 0.9820 - accuracy: 0.8705 - val_loss: 0.7949 - val_accuracy: 0.9071\n",
      "Epoch 22/100\n",
      "573/573 [==============================] - 83s 144ms/step - loss: 0.8948 - accuracy: 0.8764 - val_loss: 0.8129 - val_accuracy: 0.9140\n",
      "Epoch 23/100\n",
      "573/573 [==============================] - 83s 144ms/step - loss: 0.8707 - accuracy: 0.8747 - val_loss: 0.8417 - val_accuracy: 0.9182\n",
      "Epoch 24/100\n",
      "573/573 [==============================] - 83s 144ms/step - loss: 0.8545 - accuracy: 0.8753 - val_loss: 0.8788 - val_accuracy: 0.9125\n",
      "Epoch 25/100\n",
      "573/573 [==============================] - 83s 144ms/step - loss: 0.8361 - accuracy: 0.8779 - val_loss: 0.7990 - val_accuracy: 0.9123\n",
      "Epoch 26/100\n",
      "573/573 [==============================] - 82s 144ms/step - loss: 0.8209 - accuracy: 0.8778 - val_loss: 0.8225 - val_accuracy: 0.9100\n",
      "Epoch 27/100\n",
      "573/573 [==============================] - 83s 145ms/step - loss: 0.8100 - accuracy: 0.8799 - val_loss: 0.7414 - val_accuracy: 0.9020\n",
      "Epoch 28/100\n",
      "573/573 [==============================] - 83s 145ms/step - loss: 0.8084 - accuracy: 0.8786 - val_loss: 0.7564 - val_accuracy: 0.9199\n",
      "Epoch 29/100\n",
      "573/573 [==============================] - 83s 145ms/step - loss: 0.7943 - accuracy: 0.8806 - val_loss: 0.7608 - val_accuracy: 0.9198\n",
      "Epoch 30/100\n",
      "573/573 [==============================] - 83s 145ms/step - loss: 0.7908 - accuracy: 0.8813 - val_loss: 0.7502 - val_accuracy: 0.9120\n",
      "Epoch 31/100\n",
      "573/573 [==============================] - 83s 145ms/step - loss: 0.7878 - accuracy: 0.8815 - val_loss: 0.8586 - val_accuracy: 0.9219\n",
      "Epoch 32/100\n",
      "573/573 [==============================] - 83s 146ms/step - loss: 0.7840 - accuracy: 0.8825 - val_loss: 0.6577 - val_accuracy: 0.9141\n",
      "Epoch 33/100\n",
      "573/573 [==============================] - 84s 146ms/step - loss: 0.7746 - accuracy: 0.8831 - val_loss: 0.6994 - val_accuracy: 0.9187\n",
      "Epoch 34/100\n",
      "573/573 [==============================] - 84s 146ms/step - loss: 0.7688 - accuracy: 0.8834 - val_loss: 0.5609 - val_accuracy: 0.9244\n",
      "Epoch 35/100\n",
      "573/573 [==============================] - 84s 146ms/step - loss: 0.7659 - accuracy: 0.8851 - val_loss: 0.5257 - val_accuracy: 0.9193\n",
      "Epoch 36/100\n",
      "573/573 [==============================] - 83s 145ms/step - loss: 0.7664 - accuracy: 0.8840 - val_loss: 0.6479 - val_accuracy: 0.9227\n",
      "Epoch 37/100\n",
      "573/573 [==============================] - 83s 145ms/step - loss: 0.7609 - accuracy: 0.8849 - val_loss: 0.6693 - val_accuracy: 0.9122\n",
      "Epoch 38/100\n",
      "573/573 [==============================] - 84s 146ms/step - loss: 0.7583 - accuracy: 0.8833 - val_loss: 0.5812 - val_accuracy: 0.9035\n",
      "Epoch 39/100\n",
      "573/573 [==============================] - 83s 144ms/step - loss: 0.7560 - accuracy: 0.8835 - val_loss: 0.6673 - val_accuracy: 0.9244\n",
      "Epoch 40/100\n",
      "573/573 [==============================] - 83s 145ms/step - loss: 0.7518 - accuracy: 0.8843 - val_loss: 0.5236 - val_accuracy: 0.9133\n",
      "Epoch 41/100\n",
      "573/573 [==============================] - 83s 145ms/step - loss: 0.6738 - accuracy: 0.9003 - val_loss: 0.4862 - val_accuracy: 0.9362\n",
      "Epoch 42/100\n",
      "573/573 [==============================] - 84s 146ms/step - loss: 0.6350 - accuracy: 0.9030 - val_loss: 0.4361 - val_accuracy: 0.9350\n",
      "Epoch 43/100\n",
      "573/573 [==============================] - 84s 146ms/step - loss: 0.6095 - accuracy: 0.9048 - val_loss: 0.3907 - val_accuracy: 0.9320\n",
      "Epoch 44/100\n",
      "573/573 [==============================] - 83s 145ms/step - loss: 0.5927 - accuracy: 0.9068 - val_loss: 0.4972 - val_accuracy: 0.9367\n",
      "Epoch 45/100\n",
      "573/573 [==============================] - 83s 146ms/step - loss: 0.5884 - accuracy: 0.9053 - val_loss: 0.4151 - val_accuracy: 0.9387\n",
      "Epoch 46/100\n",
      "573/573 [==============================] - 84s 146ms/step - loss: 0.5844 - accuracy: 0.9049 - val_loss: 0.5250 - val_accuracy: 0.9396\n",
      "Epoch 47/100\n",
      "573/573 [==============================] - 84s 146ms/step - loss: 0.5732 - accuracy: 0.9072 - val_loss: 0.5240 - val_accuracy: 0.9361\n",
      "Epoch 48/100\n",
      "573/573 [==============================] - 83s 146ms/step - loss: 0.5672 - accuracy: 0.9059 - val_loss: 0.4247 - val_accuracy: 0.9400\n",
      "Epoch 49/100\n",
      "573/573 [==============================] - 84s 146ms/step - loss: 0.5645 - accuracy: 0.9060 - val_loss: 0.5649 - val_accuracy: 0.9341\n",
      "Epoch 50/100\n",
      "573/573 [==============================] - 83s 146ms/step - loss: 0.5642 - accuracy: 0.9048 - val_loss: 0.4188 - val_accuracy: 0.9373\n",
      "Epoch 51/100\n",
      "573/573 [==============================] - 83s 145ms/step - loss: 0.5207 - accuracy: 0.9158 - val_loss: 0.4530 - val_accuracy: 0.9422\n",
      "Epoch 52/100\n",
      "573/573 [==============================] - 83s 145ms/step - loss: 0.4994 - accuracy: 0.9183 - val_loss: 0.3858 - val_accuracy: 0.9469\n",
      "Epoch 53/100\n",
      "573/573 [==============================] - 83s 144ms/step - loss: 0.4875 - accuracy: 0.9196 - val_loss: 0.4558 - val_accuracy: 0.9418\n",
      "Epoch 54/100\n",
      "573/573 [==============================] - 83s 144ms/step - loss: 0.4813 - accuracy: 0.9200 - val_loss: 0.3665 - val_accuracy: 0.9463\n",
      "Epoch 55/100\n",
      "573/573 [==============================] - 83s 144ms/step - loss: 0.4728 - accuracy: 0.9202 - val_loss: 0.3867 - val_accuracy: 0.9467\n",
      "Epoch 56/100\n",
      "573/573 [==============================] - 83s 145ms/step - loss: 0.4659 - accuracy: 0.9209 - val_loss: 0.4209 - val_accuracy: 0.9447\n",
      "Epoch 57/100\n",
      "573/573 [==============================] - 84s 146ms/step - loss: 0.4650 - accuracy: 0.9199 - val_loss: 0.3874 - val_accuracy: 0.9465\n",
      "Epoch 58/100\n",
      "573/573 [==============================] - 83s 145ms/step - loss: 0.4568 - accuracy: 0.9204 - val_loss: 0.3348 - val_accuracy: 0.9479\n",
      "Epoch 59/100\n",
      "573/573 [==============================] - 83s 145ms/step - loss: 0.4540 - accuracy: 0.9215 - val_loss: 0.3825 - val_accuracy: 0.9495\n",
      "Epoch 60/100\n",
      "573/573 [==============================] - 83s 145ms/step - loss: 0.4494 - accuracy: 0.9226 - val_loss: 0.3400 - val_accuracy: 0.9473\n",
      "Epoch 61/100\n",
      "573/573 [==============================] - 84s 147ms/step - loss: 0.4291 - accuracy: 0.9266 - val_loss: 0.2393 - val_accuracy: 0.9499\n",
      "Epoch 62/100\n",
      "573/573 [==============================] - 84s 146ms/step - loss: 0.4215 - accuracy: 0.9277 - val_loss: 0.3058 - val_accuracy: 0.9507\n",
      "Epoch 63/100\n",
      "573/573 [==============================] - 84s 147ms/step - loss: 0.4145 - accuracy: 0.9285 - val_loss: 0.3183 - val_accuracy: 0.9527\n",
      "Epoch 64/100\n",
      "573/573 [==============================] - 84s 147ms/step - loss: 0.4103 - accuracy: 0.9291 - val_loss: 0.3093 - val_accuracy: 0.9526\n",
      "Epoch 65/100\n",
      "573/573 [==============================] - 84s 146ms/step - loss: 0.4069 - accuracy: 0.9287 - val_loss: 0.2467 - val_accuracy: 0.9503\n",
      "Epoch 66/100\n",
      "573/573 [==============================] - 84s 146ms/step - loss: 0.4005 - accuracy: 0.9308 - val_loss: 0.3633 - val_accuracy: 0.9522\n",
      "Epoch 67/100\n",
      "573/573 [==============================] - 84s 146ms/step - loss: 0.3946 - accuracy: 0.9312 - val_loss: 0.2909 - val_accuracy: 0.9511\n",
      "Epoch 68/100\n",
      "573/573 [==============================] - 84s 146ms/step - loss: 0.3923 - accuracy: 0.9307 - val_loss: 0.2821 - val_accuracy: 0.9521\n",
      "Epoch 69/100\n",
      "573/573 [==============================] - 83s 146ms/step - loss: 0.3904 - accuracy: 0.9318 - val_loss: 0.2501 - val_accuracy: 0.9526\n",
      "Epoch 70/100\n",
      "573/573 [==============================] - 84s 146ms/step - loss: 0.3877 - accuracy: 0.9314 - val_loss: 0.2417 - val_accuracy: 0.9546\n",
      "Epoch 71/100\n",
      "573/573 [==============================] - 83s 145ms/step - loss: 0.3793 - accuracy: 0.9333 - val_loss: 0.2909 - val_accuracy: 0.9548\n",
      "Epoch 72/100\n",
      "573/573 [==============================] - 84s 146ms/step - loss: 0.3724 - accuracy: 0.9351 - val_loss: 0.2881 - val_accuracy: 0.9539\n",
      "Epoch 73/100\n",
      "573/573 [==============================] - 83s 145ms/step - loss: 0.3673 - accuracy: 0.9355 - val_loss: 0.2576 - val_accuracy: 0.9544\n",
      "Epoch 74/100\n",
      "573/573 [==============================] - 83s 146ms/step - loss: 0.3656 - accuracy: 0.9358 - val_loss: 0.2526 - val_accuracy: 0.9562\n",
      "Epoch 75/100\n",
      "573/573 [==============================] - 84s 146ms/step - loss: 0.3607 - accuracy: 0.9373 - val_loss: 0.3667 - val_accuracy: 0.9568\n",
      "Epoch 76/100\n",
      "573/573 [==============================] - 84s 146ms/step - loss: 0.3613 - accuracy: 0.9368 - val_loss: 0.3990 - val_accuracy: 0.9570\n",
      "Epoch 77/100\n",
      "573/573 [==============================] - 83s 145ms/step - loss: 0.3600 - accuracy: 0.9376 - val_loss: 0.4996 - val_accuracy: 0.9560\n",
      "Epoch 78/100\n",
      "573/573 [==============================] - 83s 145ms/step - loss: 0.3553 - accuracy: 0.9375 - val_loss: 0.4452 - val_accuracy: 0.9535\n",
      "Epoch 79/100\n",
      "573/573 [==============================] - 83s 146ms/step - loss: 0.3529 - accuracy: 0.9383 - val_loss: 0.2648 - val_accuracy: 0.9559\n",
      "Epoch 80/100\n",
      "573/573 [==============================] - 83s 145ms/step - loss: 0.3527 - accuracy: 0.9363 - val_loss: 0.2770 - val_accuracy: 0.9554\n",
      "Epoch 81/100\n",
      "573/573 [==============================] - 83s 145ms/step - loss: 0.3469 - accuracy: 0.9380 - val_loss: 0.2483 - val_accuracy: 0.9592\n",
      "Epoch 82/100\n",
      "573/573 [==============================] - 83s 145ms/step - loss: 0.3443 - accuracy: 0.9396 - val_loss: 0.2032 - val_accuracy: 0.9577\n",
      "Epoch 83/100\n",
      "573/573 [==============================] - 84s 146ms/step - loss: 0.3426 - accuracy: 0.9395 - val_loss: 0.3165 - val_accuracy: 0.9571\n",
      "Epoch 84/100\n",
      "573/573 [==============================] - 83s 145ms/step - loss: 0.3401 - accuracy: 0.9404 - val_loss: 0.3655 - val_accuracy: 0.9579\n",
      "Epoch 85/100\n",
      "573/573 [==============================] - 83s 145ms/step - loss: 0.3428 - accuracy: 0.9391 - val_loss: 0.2635 - val_accuracy: 0.9586\n",
      "Epoch 86/100\n",
      "573/573 [==============================] - 83s 145ms/step - loss: 0.3364 - accuracy: 0.9404 - val_loss: 0.3106 - val_accuracy: 0.9571\n",
      "Epoch 87/100\n",
      "573/573 [==============================] - 83s 146ms/step - loss: 0.3419 - accuracy: 0.9388 - val_loss: 0.3502 - val_accuracy: 0.9576\n",
      "Epoch 88/100\n",
      "573/573 [==============================] - 83s 144ms/step - loss: 0.3369 - accuracy: 0.9394 - val_loss: 0.2859 - val_accuracy: 0.9573\n",
      "Epoch 89/100\n",
      "573/573 [==============================] - 83s 145ms/step - loss: 0.3366 - accuracy: 0.9407 - val_loss: 0.5196 - val_accuracy: 0.9551\n",
      "Epoch 90/100\n",
      "573/573 [==============================] - 83s 145ms/step - loss: 0.3359 - accuracy: 0.9396 - val_loss: 0.2041 - val_accuracy: 0.9570\n",
      "Epoch 91/100\n",
      "573/573 [==============================] - 83s 144ms/step - loss: 0.3306 - accuracy: 0.9411 - val_loss: 0.2764 - val_accuracy: 0.9600\n",
      "Epoch 92/100\n",
      "573/573 [==============================] - 83s 144ms/step - loss: 0.3308 - accuracy: 0.9415 - val_loss: 0.2626 - val_accuracy: 0.9574\n",
      "Epoch 93/100\n",
      "573/573 [==============================] - 83s 145ms/step - loss: 0.3268 - accuracy: 0.9434 - val_loss: 0.2485 - val_accuracy: 0.9576\n",
      "Epoch 94/100\n",
      "573/573 [==============================] - 83s 145ms/step - loss: 0.3277 - accuracy: 0.9416 - val_loss: 0.3863 - val_accuracy: 0.9567\n",
      "Epoch 95/100\n",
      "573/573 [==============================] - 83s 144ms/step - loss: 0.3269 - accuracy: 0.9413 - val_loss: 0.3496 - val_accuracy: 0.9584\n",
      "Epoch 96/100\n",
      "573/573 [==============================] - 83s 145ms/step - loss: 0.3270 - accuracy: 0.9417 - val_loss: 0.3282 - val_accuracy: 0.9591\n",
      "Epoch 97/100\n",
      "573/573 [==============================] - 83s 145ms/step - loss: 0.3254 - accuracy: 0.9421 - val_loss: 0.2100 - val_accuracy: 0.9586\n",
      "Epoch 98/100\n",
      "573/573 [==============================] - 83s 145ms/step - loss: 0.3274 - accuracy: 0.9416 - val_loss: 0.2542 - val_accuracy: 0.9594\n",
      "Epoch 99/100\n",
      "573/573 [==============================] - 83s 145ms/step - loss: 0.3245 - accuracy: 0.9426 - val_loss: 0.3401 - val_accuracy: 0.9572\n",
      "Epoch 100/100\n",
      "573/573 [==============================] - 83s 146ms/step - loss: 0.3246 - accuracy: 0.9418 - val_loss: 0.2797 - val_accuracy: 0.9571\n"
     ]
    }
   ],
   "source": [
    "history = model.fit(\n",
    "  train_gen.flow(x_train,y_train, batch_size=128),\n",
    "  epochs=100,\n",
    "  verbose=1,\n",
    "  validation_data=test_set,\n",
    "  callbacks=[keras.callbacks.LearningRateScheduler(lr_scheduler)],\n",
    "  shuffle=True\n",
    ")"
   ]
  },
  {
   "cell_type": "code",
   "execution_count": 56,
   "metadata": {
    "colab": {
     "base_uri": "https://localhost:8080/",
     "height": 573
    },
    "colab_type": "code",
    "id": "zVjwOUVzOPJy",
    "outputId": "104bcb9e-0e6b-4495-8886-211db5455a40"
   },
   "outputs": [
    {
     "data": {
      "image/png": "[encoded data removed]",
      "text/plain": [
       "<Figure size 432x288 with 1 Axes>"
      ]
     },
     "metadata": {
      "needs_background": "light",
      "tags": []
     },
     "output_type": "display_data"
    },
    {
     "data": {
      "image/png": "[encoded data removed]",
      "text/plain": [
       "<Figure size 432x288 with 1 Axes>"
      ]
     },
     "metadata": {
      "needs_background": "light",
      "tags": []
     },
     "output_type": "display_data"
    }
   ],
   "source": [
    "# Visualize history\n",
    "# Plot history: Loss\n",
    "plt.plot(history.history['val_loss'])\n",
    "plt.title('Validation loss history')\n",
    "plt.ylabel('Loss value')\n",
    "plt.xlabel('No. epoch')\n",
    "plt.show()\n",
    "\n",
    "# Plot history: Accuracy\n",
    "plt.plot(history.history['val_accuracy'])\n",
    "plt.title('Validation accuracy history')\n",
    "plt.ylabel('Accuracy value (%)')\n",
    "plt.xlabel('No. epoch')\n",
    "plt.show()"
   ]
  },
  {
   "cell_type": "code",
   "execution_count": null,
   "metadata": {
    "colab": {},
    "colab_type": "code",
    "id": "EDSCM0E2xgnz"
   },
   "outputs": [],
   "source": []
  }
 ],
 "metadata": {
  "accelerator": "GPU",
  "colab": {
   "name": "Keras - SVHM.ipynb",
   "provenance": []
  },
  "kernelspec": {
   "display_name": "Python 3",
   "language": "python",
   "name": "python3"
  },
  "language_info": {
   "codemirror_mode": {
    "name": "ipython",
    "version": 3
   },
   "file_extension": ".py",
   "mimetype": "text/x-python",
   "name": "python",
   "nbconvert_exporter": "python",
   "pygments_lexer": "ipython3",
   "version": "3.8.3"
  }
 },
 "nbformat": 4,
 "nbformat_minor": 1
}
